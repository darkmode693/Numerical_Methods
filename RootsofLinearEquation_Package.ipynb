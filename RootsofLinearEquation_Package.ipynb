{
  "nbformat": 4,
  "nbformat_minor": 0,
  "metadata": {
    "colab": {
      "name": "RootsofLinearEquation_Package.ipynb",
      "provenance": [],
      "collapsed_sections": []
    },
    "kernelspec": {
      "name": "python3",
      "display_name": "Python 3"
    }
  },
  "cells": [
    {
      "cell_type": "markdown",
      "metadata": {
        "id": "Xtrgx6qp0snp"
      },
      "source": [
        "#### First we need to import the module 'roots_of_linear_equation' and the NumPy library as np\n",
        "\n"
      ]
    },
    {
      "cell_type": "code",
      "metadata": {
        "id": "qFVZPuiGzL2e"
      },
      "source": [
        "import numpy as np\n",
        "import roots_of_linear_equation as rt"
      ],
      "execution_count": null,
      "outputs": []
    },
    {
      "cell_type": "markdown",
      "metadata": {
        "id": "hbiO1sF70Z3b"
      },
      "source": [
        "# Brute Force Method"
      ]
    },
    {
      "cell_type": "code",
      "metadata": {
        "colab": {
          "base_uri": "https://localhost:8080/"
        },
        "id": "Zpgo_nX3z0MU",
        "outputId": "a6d9ea23-5334-48bd-ccb8-8cf7d649615d"
      },
      "source": [
        "def f1(x): return 2-x**2\n",
        "def f2(x): return np.sqrt(2-x)\n",
        "\n",
        "equations = [f1, f2]\n",
        "\n",
        "##rt.iterative_method(equations, n_roots, epochs, precision, x)\n",
        "rt.iterative_method(equations, 3, 100, 2e-03, 0)"
      ],
      "execution_count": null,
      "outputs": [
        {
          "output_type": "stream",
          "text": [
            "The roots are [-2, 0.9991142250901637] found after 12 epochs\n"
          ],
          "name": "stdout"
        }
      ]
    },
    {
      "cell_type": "markdown",
      "metadata": {
        "id": "efBkTw3J0gUe"
      },
      "source": [
        "# Newthon Raphson Method"
      ]
    },
    {
      "cell_type": "code",
      "metadata": {
        "colab": {
          "base_uri": "https://localhost:8080/"
        },
        "id": "UdBcDaxa0ARB",
        "outputId": "847caf6c-bbfb-4204-f5b1-8a376e656d3b"
      },
      "source": [
        "def a(x): return 2*x**2 - 5*x + 3\n",
        "def a_prime(x): return 4*x - 5\n",
        "\n",
        "x_inits = np.arange(0,4)\n",
        "\n",
        "#newton_raphson(equation, equation_prime, epochs, x_inits):\n",
        "rt.newton_raphson(a, a_prime, 100000, x_inits)"
      ],
      "execution_count": null,
      "outputs": [
        {
          "output_type": "stream",
          "text": [
            "The roots are: [1.  1.5], found at epoch 7\n"
          ],
          "name": "stdout"
        }
      ]
    },
    {
      "cell_type": "markdown",
      "metadata": {
        "id": "JEG5PJi00kYS"
      },
      "source": [
        "# Bisection Method"
      ]
    },
    {
      "cell_type": "code",
      "metadata": {
        "colab": {
          "base_uri": "https://localhost:8080/"
        },
        "id": "zwqL7uKj0Oac",
        "outputId": "258bdba3-4497-414c-e9d5-860ef8939d3d"
      },
      "source": [
        "def f(x): return x**3 - x - 1\n",
        "\n",
        "#bisection_method(equation, i1, i2, epochs, precision, n_roots):\n",
        "rt.bisection_method(f, 1.1, 3, 10000, 1e-06, 3)"
      ],
      "execution_count": null,
      "outputs": [
        {
          "output_type": "stream",
          "text": [
            "The roots are: [1.3247179554775355, 1.3247179554775355, 1.324717956362292], found at epoch 31\n"
          ],
          "name": "stdout"
        }
      ]
    },
    {
      "cell_type": "markdown",
      "metadata": {
        "id": "Og-stpwa0mpN"
      },
      "source": [
        "# Regula Falsi Method"
      ]
    },
    {
      "cell_type": "code",
      "metadata": {
        "colab": {
          "base_uri": "https://localhost:8080/"
        },
        "id": "j4Swi7k70UGr",
        "outputId": "1ecef981-77cf-4813-ae1f-6bae26dc0bf8"
      },
      "source": [
        "def d(x): return x**3 + 4*x**2 - 3*x - 18 \n",
        "\n",
        "#regula_falsi(equation, a, b, epochs, precision, n_roots):\n",
        "rt.regula_falsi(d, 0, 2.5, 100, 0, 2)"
      ],
      "execution_count": null,
      "outputs": [
        {
          "output_type": "stream",
          "text": [
            "The roots are: [1.9999999998971734, 1.999999999982154], found at epoch 14\n"
          ],
          "name": "stdout"
        }
      ]
    },
    {
      "cell_type": "markdown",
      "metadata": {
        "id": "HEAIzOjy0qAQ"
      },
      "source": [
        "# Secant Method"
      ]
    },
    {
      "cell_type": "code",
      "metadata": {
        "colab": {
          "base_uri": "https://localhost:8080/"
        },
        "id": "bjsz9yEy0WWb",
        "outputId": "44567422-9d7a-4864-dd4a-761c2fa9e961"
      },
      "source": [
        "def f3(x): return x**3 - 6*x**2 + 11*x - 6\n",
        "\n",
        "n_roots = set([])\n",
        "\n",
        "#Secant_Method(equation,n_roots,x0,x1,epochs,Precision):\n",
        "rt.Secant_Method(f3,n_roots,4,5,100,4)"
      ],
      "execution_count": null,
      "outputs": [
        {
          "output_type": "stream",
          "text": [
            "\n",
            "SECANT METHOD\n",
            "Epoch Count: 0, x2 = 3.6667\n",
            "Epoch Count: 1, x2 = 3.4789\n",
            "Epoch Count: 2, x2 = 3.2058\n",
            "Epoch Count: 3, x2 = 3.0821\n",
            "Epoch Count: 4, x2 = 3.019\n",
            "Epoch Count: 5, x2 = 3.0021\n",
            "Epoch Count: 6, x2 = 3.0001\n",
            "Epoch Count: 7, x2 = 3.0\n",
            "Epoch Count: 8, x2 = 3.0\n",
            "\n",
            "The root is: 3.0, found at 8 epochs\n",
            "\n",
            "The roots found so far are:\n",
            " {3.0000000000157496}\n"
          ],
          "name": "stdout"
        }
      ]
    }
  ]
}
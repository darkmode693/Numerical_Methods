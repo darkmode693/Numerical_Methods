{
  "nbformat": 4,
  "nbformat_minor": 0,
  "metadata": {
    "colab": {
      "name": "RootsofLinearEquation_Package.ipynb",
      "provenance": [],
      "collapsed_sections": []
    },
    "kernelspec": {
      "name": "python3",
      "display_name": "Python 3"
    }
  },
  "cells": [
    {
      "cell_type": "markdown",
      "metadata": {
        "id": "3JLkPJB4LxrR"
      },
      "source": [
        "#### First we need to import the module 'roots_of_linear_equation' and the NumPy library as np\n"
      ]
    },
    {
      "cell_type": "code",
      "metadata": {
        "id": "iyWKVzkOLtv3"
      },
      "source": [
        "import numpy as np\n",
        "import roots_of_linear_equation as rt"
      ],
      "execution_count": null,
      "outputs": []
    },
    {
      "cell_type": "markdown",
      "metadata": {
        "id": "fDqE2EvaMK0-"
      },
      "source": [
        "# Brute Force Method"
      ]
    },
    {
      "cell_type": "code",
      "metadata": {
        "colab": {
          "base_uri": "https://localhost:8080/"
        },
        "id": "YjwwUplJMLhj",
        "outputId": "9c7461fc-a8bf-4964-b9c6-dc5c2262e80b"
      },
      "source": [
        "def f1(x): return 2-x**2\n",
        "def f2(x): return np.sqrt(2-x)\n",
        "\n",
        "equations = [f1, f2]\n",
        "\n",
        "#iterative_method(equations, n_roots, epochs, precision, x)\n",
        "rt.iterative_method(equations, 3, 100, 2e-03, 0)"
      ],
      "execution_count": null,
      "outputs": [
        {
          "output_type": "stream",
          "text": [
            "The roots are [-2, 0.9991142250901637] found after 12 epochs\n"
          ],
          "name": "stdout"
        }
      ]
    },
    {
      "cell_type": "markdown",
      "metadata": {
        "id": "MlkealUUMNL8"
      },
      "source": [
        "# Newthon Raphson Method"
      ]
    },
    {
      "cell_type": "code",
      "metadata": {
        "id": "T2ATmfxlMQgX",
        "colab": {
          "base_uri": "https://localhost:8080/"
        },
        "outputId": "f916ed11-fb4b-4f8a-f7ab-27169d7ba7ae"
      },
      "source": [
        "def a(x): return 2*x**2 - 5*x + 3\n",
        "\n",
        "\n",
        "x_inits = np.arange(0,4)\n",
        "\n",
        "\n",
        "#newton_raphson(equation, epochs, x_inits, precision, n_roots)\n",
        "rt.newton_raphson(a, 1000, x_inits, 1e-06, 2)"
      ],
      "execution_count": null,
      "outputs": [
        {
          "output_type": "stream",
          "text": [
            "The roots are: [0.99995 1.     ], found at epoch 1\n"
          ],
          "name": "stdout"
        }
      ]
    },
    {
      "cell_type": "markdown",
      "metadata": {
        "id": "PK_-G-dTMTuL"
      },
      "source": [
        "# Bisection Method"
      ]
    },
    {
      "cell_type": "code",
      "metadata": {
        "colab": {
          "base_uri": "https://localhost:8080/"
        },
        "id": "_N2RDaVxMWeI",
        "outputId": "1cbe5268-8017-46be-8029-23dbc08117f7"
      },
      "source": [
        "def f(x): return x**3 - x - 1\n",
        "\n",
        "#bisection_method(equation, i1, i2, epochs, precision, n_roots)\n",
        "rt.bisection_method(f, 1.1, 3, 10000, 1e-06, 2)"
      ],
      "execution_count": null,
      "outputs": [
        {
          "output_type": "stream",
          "text": [
            "The roots are: [1.32472], found at epoch 30\n"
          ],
          "name": "stdout"
        }
      ]
    },
    {
      "cell_type": "markdown",
      "metadata": {
        "id": "SwqjShaDMaDx"
      },
      "source": [
        "# Regula Falsi Method"
      ]
    },
    {
      "cell_type": "code",
      "metadata": {
        "colab": {
          "base_uri": "https://localhost:8080/"
        },
        "id": "5eo2b7LvMcbU",
        "outputId": "ba10ce98-2907-4d0e-947d-3b094da7c788"
      },
      "source": [
        "def d(x): return x**3 + 4*x**2 - 3*x - 18 \n",
        "\n",
        "#regula_falsi(equation, a, b, epochs, precision, n_roots)\n",
        "rt.regula_falsi(d, 0, 2.5, 100, 0, 5)"
      ],
      "execution_count": null,
      "outputs": [
        {
          "output_type": "stream",
          "text": [
            "The roots are: [2.], found at epoch 17\n"
          ],
          "name": "stdout"
        }
      ]
    },
    {
      "cell_type": "markdown",
      "metadata": {
        "id": "PDhKfhCOMeFl"
      },
      "source": [
        "# Secant Method"
      ]
    },
    {
      "cell_type": "code",
      "metadata": {
        "colab": {
          "base_uri": "https://localhost:8080/"
        },
        "id": "0vSZkOpkMiY_",
        "outputId": "1e30528d-fcd4-4e7a-8742-b2dc8d1b38d4"
      },
      "source": [
        "def f3(x): return x**3 - 6*x**2 + 11*x - 6\n",
        "\n",
        "n_roots = set([])\n",
        "\n",
        "\n",
        "#Secant_Method(equation,n_roots,x0,x1,epochs,Precision)\n",
        "rt.Secant_Method(f3,n_roots,4,5,100,4)"
      ],
      "execution_count": null,
      "outputs": [
        {
          "output_type": "stream",
          "text": [
            "\n",
            "SECANT METHOD\n",
            "Epoch Count: 0, x2 = 3.6667\n",
            "Epoch Count: 1, x2 = 3.4789\n",
            "Epoch Count: 2, x2 = 3.2058\n",
            "Epoch Count: 3, x2 = 3.0821\n",
            "Epoch Count: 4, x2 = 3.019\n",
            "Epoch Count: 5, x2 = 3.0021\n",
            "Epoch Count: 6, x2 = 3.0001\n",
            "Epoch Count: 7, x2 = 3.0\n",
            "Epoch Count: 8, x2 = 3.0\n",
            "\n",
            "The root is: 3.0, found at 8 epochs\n",
            "\n",
            "The roots found so far are:\n",
            " {3.0000000000157496}\n"
          ],
          "name": "stdout"
        }
      ]
    }
  ]
}
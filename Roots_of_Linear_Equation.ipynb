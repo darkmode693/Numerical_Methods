{
  "nbformat": 4,
  "nbformat_minor": 0,
  "metadata": {
    "colab": {
      "name": "Roots_of_Linear_Equation.ipynb",
      "provenance": [],
      "collapsed_sections": []
    },
    "kernelspec": {
      "name": "python3",
      "display_name": "Python 3"
    }
  },
  "cells": [
    {
      "cell_type": "markdown",
      "metadata": {
        "id": "ur7lq9nFC1sb"
      },
      "source": [
        "# Roots of Linear Equation\n",
        "*Submitted by: Go Group* <br>\n",
        "*Submitted to: Engr. Dylan Josh Lopez*<br>\n",
        "*Section: 58015*"
      ]
    },
    {
      "cell_type": "code",
      "metadata": {
        "id": "ftnIN7c1DCRV"
      },
      "source": [
        "import numpy as np\n",
        "import matplotlib.pyplot as plt"
      ],
      "execution_count": 1,
      "outputs": []
    },
    {
      "cell_type": "markdown",
      "metadata": {
        "id": "sIbZdycgC-dZ"
      },
      "source": [
        "# Simple Iterative method"
      ]
    },
    {
      "cell_type": "code",
      "metadata": {
        "id": "XOK7pEY4C_Aa"
      },
      "source": [
        "def iterative_method(equations, n_roots, epochs, precision, x):\n",
        "  roots = []\n",
        "  end_epoch = 0\n",
        "  try:\n",
        "    for equation in equations:\n",
        "      x \n",
        "      for epoch in range(epochs):\n",
        "        x_prime = equation(x)\n",
        "        if np.allclose(x, x_prime, precision):\n",
        "          if len(roots) == n_roots: break\n",
        "          roots.append(x)\n",
        "          break\n",
        "        x = x_prime\n",
        "    if len(roots) <= 1:\n",
        "      print(\"The root is {} found after {} epochs\".format(roots, epoch))\n",
        "    elif len(roots) > 1:\n",
        "      print(\"The roots are {} found after {} epochs\".format(roots, epoch))\n",
        "  except Exception as e:\n",
        "    print(\"Error: \", e)"
      ],
      "execution_count": 2,
      "outputs": []
    },
    {
      "cell_type": "markdown",
      "metadata": {
        "id": "bsnMA3m7DJHz"
      },
      "source": [
        "# Newton Raphson Method"
      ]
    },
    {
      "cell_type": "code",
      "metadata": {
        "id": "-5I5jT19DKMj"
      },
      "source": [
        "def newton_raphson(equation, equation_prime, epochs, x_inits):\n",
        "  roots = []\n",
        "  end_epoch = 0\n",
        "  for x_init in x_inits:\n",
        "    x = x_init\n",
        "    for epoch in range(epochs):\n",
        "      x_prime = x - (equation(x)/equation_prime(x))\n",
        "      if np.allclose(x, x_prime):\n",
        "        ##print(len(roots))\n",
        "        #if len(roots) == n_roots:  break\n",
        "        roots.append(x)\n",
        "        end_epoch = epoch\n",
        "        break\n",
        "      x = x_prime\n",
        "  np_roots = np.round(roots,3)\n",
        "  np_roots = np.unique(np_roots)\n",
        "  #print(np_roots)\n",
        "  if len(roots) <= 1:\n",
        "    print(f\"The root is: {np_roots}, found at epoch {end_epoch+1}\")\n",
        "  elif len(roots) > 1:\n",
        "    print(f\"The roots are: {np_roots}, found at epoch {end_epoch+1}\")"
      ],
      "execution_count": 3,
      "outputs": []
    },
    {
      "cell_type": "markdown",
      "metadata": {
        "id": "I3xvdgF4DMQr"
      },
      "source": [
        "#Bisection Method"
      ]
    },
    {
      "cell_type": "code",
      "metadata": {
        "id": "jz3dFRHqDOtR"
      },
      "source": [
        "def bisection_method(equation, i1, i2, epochs, precision, n_roots):\n",
        "    y1, y2 = equation(i1), equation(i2)\n",
        "    x_roots = []\n",
        "    end_bisect = 0\n",
        "    try:\n",
        "      if np.sign(y1) == np.sign(y2):\n",
        "          print(\"Root cannot be found in the given interval\")\n",
        "      else:\n",
        "          for bisect in range(epochs):\n",
        "              midp = np.mean([i1,i2])\n",
        "              y_mid = equation(midp)\n",
        "              y1 = equation(i1)\n",
        "              if np.allclose(0, y1, precision):\n",
        "                  #n_root = i1\n",
        "                  x_roots.append(i1)\n",
        "                  end_bisect = bisect\n",
        "                  if len(x_roots) == n_roots: \n",
        "                    break\n",
        "              if np.sign(y1) != np.sign(y_mid): #root is in first-half interval\n",
        "                  i2 = midp\n",
        "              else: #root is in second-half interval\n",
        "                  i1 = midp \n",
        "          if len(x_roots) <= 1:\n",
        "            print(f\"The root is: {x_roots}, found at epoch {end_bisect}\")\n",
        "          elif len(x_roots) > 1:\n",
        "            print(f\"The roots are: {x_roots}, found at epoch {end_bisect}\")\n",
        "    except Exception as e:\n",
        "      print(\"Error: \", e)"
      ],
      "execution_count": 4,
      "outputs": []
    },
    {
      "cell_type": "markdown",
      "metadata": {
        "id": "SBoxTh8aDQfV"
      },
      "source": [
        "# Regula Falsi Method\n",
        "\n",
        "\n",
        "\n"
      ]
    },
    {
      "cell_type": "code",
      "metadata": {
        "id": "qMHc9raMDT3d"
      },
      "source": [
        "def regula_falsi(equation, a, b, epochs, precision, n_roots):\n",
        "  y1, y2 = equation(a), equation(b)\n",
        "  x_roots = [] \n",
        "  epoch = 0\n",
        "  try:\n",
        "    if np.allclose(0,y1): x_roots.append(a)\n",
        "    elif np.allclose(0,y2): x_roots.append(b)\n",
        "    elif np.sign(y1) == np.sign(y2):\n",
        "      print(\"No root here\")\n",
        "    else:\n",
        "      for epoch in range(epochs):\n",
        "        c = b - (equation(b)*(b-a))/(equation(b)-equation(a)) ##false root\n",
        "        if np.allclose(0,equation(c), precision):\n",
        "          x_roots.append(c)\n",
        "          if len(x_roots) == n_roots:\n",
        "            break\n",
        "        if np.sign(equation(a)) != np.sign(equation(c)): b,y2 = c,equation(c)\n",
        "        else: a,y1 = c,equation(c) \n",
        "    #print(\"The root is {}, found at {} false position\".format(x_roots, epoch))\n",
        "    if len(x_roots) <= 1:\n",
        "      print(f\"The root is: {x_roots}, found at epoch {epoch}\")\n",
        "    elif len(x_roots) > 1:\n",
        "      print(f\"The roots are: {x_roots}, found at epoch {epoch}\")\n",
        "  except Exception as e:\n",
        "    print(\"Error: \", e)\n"
      ],
      "execution_count": 5,
      "outputs": []
    },
    {
      "cell_type": "markdown",
      "metadata": {
        "id": "xerGDFWCDWPl"
      },
      "source": [
        "# Secant Method "
      ]
    },
    {
      "cell_type": "code",
      "metadata": {
        "id": "rrpr7ds6DYii"
      },
      "source": [
        "n_roots = set([]) \n",
        "\n",
        "def Secant_Method(equation,n_roots,x0,x1,epochs,Precision):\n",
        "    print(\"\\nSECANT METHOD\")\n",
        "    ##Checks if Guesses are Equal\n",
        "    try:\n",
        "        if equation(x0) == equation(x1):\n",
        "            print('\\nGuesses cannot be Computed\\n\\n')\n",
        "        else:\n",
        "          ##Solves for Root\n",
        "            for epoch in range(epochs):\n",
        "                x2 = x0 - equation(x0)*(x1-x0)/( equation(x1) - equation(x0))\n",
        "                print(\"Epoch Count: {}, x2 = {}\".format(epoch,round(x2,Precision)))\n",
        "                if np.allclose(x1,x2): \n",
        "                    n_roots.add(x2)\n",
        "                    break\n",
        "                x0 = x1\n",
        "                x1 = x2\n",
        "            print('\\nThe root is: {}, found at {} epochs\\n'.format(round(x2,Precision),epoch))\n",
        "            print(\"The roots found so far are:\\n\",n_roots)\n",
        "    except Exception as E:\n",
        "        print(\"Error:\", E)"
      ],
      "execution_count": 6,
      "outputs": []
    }
  ]
}
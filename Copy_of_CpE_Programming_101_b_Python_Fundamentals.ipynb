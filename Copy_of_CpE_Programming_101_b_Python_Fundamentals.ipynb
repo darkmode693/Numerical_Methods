{
  "nbformat": 4,
  "nbformat_minor": 0,
  "metadata": {
    "colab": {
      "name": "Copy of CpE Programming 101.b - Python Fundamentals",
      "provenance": [],
      "collapsed_sections": [],
      "include_colab_link": true
    },
    "kernelspec": {
      "name": "python3",
      "display_name": "Python 3"
    }
  },
  "cells": [
    {
      "cell_type": "markdown",
      "metadata": {
        "id": "view-in-github",
        "colab_type": "text"
      },
      "source": [
        "<a href=\"https://colab.research.google.com/github/darkmode693/Numerical_Methods/blob/main/Copy_of_CpE_Programming_101_b_Python_Fundamentals.ipynb\" target=\"_parent\"><img src=\"https://colab.research.google.com/assets/colab-badge.svg\" alt=\"Open In Colab\"/></a>"
      ]
    },
    {
      "cell_type": "markdown",
      "metadata": {
        "id": "QnAdk8hy7Bl9"
      },
      "source": [
        "# Welcome to Python Fundamentals\r\n",
        "(c) Ralf Joshua M. Nietes 2021\r\n",
        "\r\n",
        "February 2,2021"
      ]
    },
    {
      "cell_type": "code",
      "metadata": {
        "id": "vTJaF6kdKIw2"
      },
      "source": [
        "name = input(\"Enter your full name:\")\r\n",
        "course = input(\"Enter your course:\")\r\n",
        "pg = float(input(\"Input Prelim Grade:\"))\r\n",
        "mg = float(input(\"Input Midterm Grade:\"))\r\n",
        "fg = float(input(\"Input Final Grade:\"))\r\n",
        "\r\n",
        "sg = (pg*.30 + mg*.30 + fg*.40)\r\n",
        "\r\n",
        "print(\"\\n\",name +\"'s Semestral Grade is {:.2f}\".format(float(sg)))\r\n",
        "\r\n",
        "if sg > 70:\r\n",
        "    print(\"\\U0001F600\")\r\n",
        "elif sg == 70:\r\n",
        "    print(\"\\U0001F923\")\r\n",
        "elif sg < 70:\r\n",
        "    print(\"\\U0001F619\")"
      ],
      "execution_count": null,
      "outputs": []
    },
    {
      "cell_type": "markdown",
      "metadata": {
        "id": "5TsMkB_E5UEx"
      },
      "source": [
        "I created five variables to input all the needed information of the user. It includes his/her name,course,prelim grade,midterm grade and finals grade. I created one variable for the computation of the semestral grade. I used the format function and \"{:.2f}\" this code specifies how many decimals will there be. The \"f\" indicates what data type I want to format. If you change it to  \"{:.3f}\" the output will have a three decimal value. I used condition statements to pair a group of values with an emoji."
      ]
    }
  ]
}
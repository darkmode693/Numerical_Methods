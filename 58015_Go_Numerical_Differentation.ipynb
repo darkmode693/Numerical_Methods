{
  "nbformat": 4,
  "nbformat_minor": 0,
  "metadata": {
    "colab": {
      "name": "58015_Go_Numerical_Differentation.ipynb",
      "provenance": [],
      "collapsed_sections": []
    },
    "kernelspec": {
      "name": "python3",
      "display_name": "Python 3"
    },
    "language_info": {
      "name": "python"
    }
  },
  "cells": [
    {
      "cell_type": "markdown",
      "metadata": {
        "id": "XSfNAwRTNM-T"
      },
      "source": [
        "#**Numerical Differentation**\n",
        "\n",
        "*Submitted by: Go Group* <br>\n",
        "*Submitted to: Engr. Dylan Josh Lopez*<br>\n",
        "*Section: 58015*"
      ]
    },
    {
      "cell_type": "markdown",
      "metadata": {
        "id": "llZkDlnzjnso"
      },
      "source": [
        "## **Importing needed Libraries**"
      ]
    },
    {
      "cell_type": "code",
      "metadata": {
        "id": "bZOOb4cueDNS"
      },
      "source": [
        "import numpy as np\n",
        "from scipy.special import binom, factorial\n",
        "from scipy.misc import derivative\n",
        "from math import cos, e\n",
        "from sympy import *\n",
        "import matplotlib.pyplot as plt\n",
        "import sympy as sy\n",
        "from sympy.functions import sin,cos"
      ],
      "execution_count": null,
      "outputs": []
    },
    {
      "cell_type": "markdown",
      "metadata": {
        "id": "_WwCkkY22Ph1"
      },
      "source": [
        "## **Declaration of Pascal Triangle**"
      ]
    },
    {
      "cell_type": "code",
      "metadata": {
        "id": "T1atSXeanitA"
      },
      "source": [
        "binom_coeffs = lambda n : np.asarray([binom(n,k) for k in range(n+1)])"
      ],
      "execution_count": null,
      "outputs": []
    },
    {
      "cell_type": "markdown",
      "metadata": {
        "id": "3LSW-E_A2UuW"
      },
      "source": [
        "## **Declaration of Functions to be used**"
      ]
    },
    {
      "cell_type": "code",
      "metadata": {
        "id": "_UHL47Wejskf"
      },
      "source": [
        "f = lambda x: 4*x**3 + 2*x**2 - x + 1 # Sample function from discussion, used only for demonstration\n",
        "f_1 = lambda x: 12*x**2 + 4*x -1\n",
        "\n",
        "y1 = lambda x: ((4*x**2 + 2*x + 1) / (x + 2 * np.exp(x))) ** x\n",
        "y1_1 = lambda x: ((4*x**2 + 2*x + 1)/(2*2.71828182845905**x + x))**x*(x*(2*2.71828182845905**x + x)*((-2.0*2.71828182845905**x - 1)*(4*x**2 + 2*x + 1)/(2*2.71828182845905**x + x)**2 + (8*x + 2)/(2*2.71828182845905**x + x))/(4*x**2 + 2*x + 1) + log((4*x**2 + 2*x + 1)/(2*2.71828182845905**x + x)))\n",
        "y1_2 = lambda x: ((4*x**2 + 2*x + 1)/(2*2.71828182845905**x + x))**x*(x*(2*2.71828182845905**x + x)*((-2.0*2.71828182845905**x - 1)*(4*x**2 + 2*x + 1)/(2*2.71828182845905**x + x)**2 + (8*x + 2)/(2*2.71828182845905**x + x))/(4*x**2 + 2*x + 1) + log((4*x**2 + 2*x + 1)/(2*2.71828182845905**x + x)))**2 + ((4*x**2 + 2*x + 1)/(2*2.71828182845905**x + x))**x*(x*(2.0*2.71828182845905**x + 1)*((-2.0*2.71828182845905**x - 1)*(4*x**2 + 2*x + 1)/(2*2.71828182845905**x + x)**2 + (8*x + 2)/(2*2.71828182845905**x + x))/(4*x**2 + 2*x + 1) + x*(2*2.71828182845905**x + x)*(-8*x - 2)*((-2.0*2.71828182845905**x - 1)*(4*x**2 + 2*x + 1)/(2*2.71828182845905**x + x)**2 + (8*x + 2)/(2*2.71828182845905**x + x))/(4*x**2 + 2*x + 1)**2 + x*(2*2.71828182845905**x + x)*(-2.0*2.71828182845905**x*(4*x**2 + 2*x + 1)/(2*2.71828182845905**x + x)**2 + (-4.0*2.71828182845905**x - 2)*(-2.0*2.71828182845905**x - 1)*(4*x**2 + 2*x + 1)/(2*2.71828182845905**x + x)**3 + 2*(-2.0*2.71828182845905**x - 1)*(8*x + 2)/(2*2.71828182845905**x + x)**2 + 8/(2*2.71828182845905**x + x))/(4*x**2 + 2*x + 1) + 2*(2*2.71828182845905**x + x)*((-2.0*2.71828182845905**x - 1)*(4*x**2 + 2*x + 1)/(2*2.71828182845905**x + x)**2 + (8*x + 2)/(2*2.71828182845905**x + x))/(4*x**2 + 2*x + 1))\n",
        "y1_3 = lambda x: ((4*x**2 + 2*x + 1)/(2*2.71828182845905**x + x))**x*(x*(2*2.71828182845905**x + x)*((-2.0*2.71828182845905**x - 1)*(4*x**2 + 2*x + 1)/(2*2.71828182845905**x + x)**2 + (8*x + 2)/(2*2.71828182845905**x + x))/(4*x**2 + 2*x + 1) + log((4*x**2 + 2*x + 1)/(2*2.71828182845905**x + x)))**3 + ((4*x**2 + 2*x + 1)/(2*2.71828182845905**x + x))**x*(x*(2*2.71828182845905**x + x)*((-2.0*2.71828182845905**x - 1)*(4*x**2 + 2*x + 1)/(2*2.71828182845905**x + x)**2 + (8*x + 2)/(2*2.71828182845905**x + x))/(4*x**2 + 2*x + 1) + log((4*x**2 + 2*x + 1)/(2*2.71828182845905**x + x)))*(x*(2.0*2.71828182845905**x + 1)*((-2.0*2.71828182845905**x - 1)*(4*x**2 + 2*x + 1)/(2*2.71828182845905**x + x)**2 + (8*x + 2)/(2*2.71828182845905**x + x))/(4*x**2 + 2*x + 1) + x*(2*2.71828182845905**x + x)*(-8*x - 2)*((-2.0*2.71828182845905**x - 1)*(4*x**2 + 2*x + 1)/(2*2.71828182845905**x + x)**2 + (8*x + 2)/(2*2.71828182845905**x + x))/(4*x**2 + 2*x + 1)**2 + x*(2*2.71828182845905**x + x)*(-2.0*2.71828182845905**x*(4*x**2 + 2*x + 1)/(2*2.71828182845905**x + x)**2 + (-4.0*2.71828182845905**x - 2)*(-2.0*2.71828182845905**x - 1)*(4*x**2 + 2*x + 1)/(2*2.71828182845905**x + x)**3 + 2*(-2.0*2.71828182845905**x - 1)*(8*x + 2)/(2*2.71828182845905**x + x)**2 + 8/(2*2.71828182845905**x + x))/(4*x**2 + 2*x + 1) + 2*(2*2.71828182845905**x + x)*((-2.0*2.71828182845905**x - 1)*(4*x**2 + 2*x + 1)/(2*2.71828182845905**x + x)**2 + (8*x + 2)/(2*2.71828182845905**x + x))/(4*x**2 + 2*x + 1)) + ((4*x**2 + 2*x + 1)/(2*2.71828182845905**x + x))**x*(x*(2*2.71828182845905**x + x)*((-2.0*2.71828182845905**x - 1)*(4*x**2 + 2*x + 1)/(2*2.71828182845905**x + x)**2 + (8*x + 2)/(2*2.71828182845905**x + x))/(4*x**2 + 2*x + 1) + log((4*x**2 + 2*x + 1)/(2*2.71828182845905**x + x)))*(2*x*(2.0*2.71828182845905**x + 1)*((-2.0*2.71828182845905**x - 1)*(4*x**2 + 2*x + 1)/(2*2.71828182845905**x + x)**2 + (8*x + 2)/(2*2.71828182845905**x + x))/(4*x**2 + 2*x + 1) + 2*x*(2*2.71828182845905**x + x)*(-8*x - 2)*((-2.0*2.71828182845905**x - 1)*(4*x**2 + 2*x + 1)/(2*2.71828182845905**x + x)**2 + (8*x + 2)/(2*2.71828182845905**x + x))/(4*x**2 + 2*x + 1)**2 + 2*x*(2*2.71828182845905**x + x)*(-2.0*2.71828182845905**x*(4*x**2 + 2*x + 1)/(2*2.71828182845905**x + x)**2 + (-4.0*2.71828182845905**x - 2)*(-2.0*2.71828182845905**x - 1)*(4*x**2 + 2*x + 1)/(2*2.71828182845905**x + x)**3 + 2*(-2.0*2.71828182845905**x - 1)*(8*x + 2)/(2*2.71828182845905**x + x)**2 + 8/(2*2.71828182845905**x + x))/(4*x**2 + 2*x + 1) + 4*(2*2.71828182845905**x + x)*((-2.0*2.71828182845905**x - 1)*(4*x**2 + 2*x + 1)/(2*2.71828182845905**x + x)**2 + (8*x + 2)/(2*2.71828182845905**x + x))/(4*x**2 + 2*x + 1)) + ((4*x**2 + 2*x + 1)/(2*2.71828182845905**x + x))**x*(2.0*2.71828182845905**x*x*((-2.0*2.71828182845905**x - 1)*(4*x**2 + 2*x + 1)/(2*2.71828182845905**x + x)**2 + (8*x + 2)/(2*2.71828182845905**x + x))/(4*x**2 + 2*x + 1) + 2*x*(2.0*2.71828182845905**x + 1)*(-8*x - 2)*((-2.0*2.71828182845905**x - 1)*(4*x**2 + 2*x + 1)/(2*2.71828182845905**x + x)**2 + (8*x + 2)/(2*2.71828182845905**x + x))/(4*x**2 + 2*x + 1)**2 + 2*x*(2.0*2.71828182845905**x + 1)*(-2.0*2.71828182845905**x*(4*x**2 + 2*x + 1)/(2*2.71828182845905**x + x)**2 + (-4.0*2.71828182845905**x - 2)*(-2.0*2.71828182845905**x - 1)*(4*x**2 + 2*x + 1)/(2*2.71828182845905**x + x)**3 + 2*(-2.0*2.71828182845905**x - 1)*(8*x + 2)/(2*2.71828182845905**x + x)**2 + 8/(2*2.71828182845905**x + x))/(4*x**2 + 2*x + 1) + x*(2*2.71828182845905**x + x)*(-16*x - 4)*(-8*x - 2)*((-2.0*2.71828182845905**x - 1)*(4*x**2 + 2*x + 1)/(2*2.71828182845905**x + x)**2 + (8*x + 2)/(2*2.71828182845905**x + x))/(4*x**2 + 2*x + 1)**3 + 2*x*(2*2.71828182845905**x + x)*(-8*x - 2)*(-2.0*2.71828182845905**x*(4*x**2 + 2*x + 1)/(2*2.71828182845905**x + x)**2 + (-4.0*2.71828182845905**x - 2)*(-2.0*2.71828182845905**x - 1)*(4*x**2 + 2*x + 1)/(2*2.71828182845905**x + x)**3 + 2*(-2.0*2.71828182845905**x - 1)*(8*x + 2)/(2*2.71828182845905**x + x)**2 + 8/(2*2.71828182845905**x + x))/(4*x**2 + 2*x + 1)**2 - 8*x*(2*2.71828182845905**x + x)*((-2.0*2.71828182845905**x - 1)*(4*x**2 + 2*x + 1)/(2*2.71828182845905**x + x)**2 + (8*x + 2)/(2*2.71828182845905**x + x))/(4*x**2 + 2*x + 1)**2 + x*(2*2.71828182845905**x + x)*(-4.0*2.71828182845905**x*(-4.0*2.71828182845905**x - 2)*(4*x**2 + 2*x + 1)/(2*2.71828182845905**x + x)**3 - 4.0*2.71828182845905**x*(-2.0*2.71828182845905**x - 1)*(4*x**2 + 2*x + 1)/(2*2.71828182845905**x + x)**3 - 6.0*2.71828182845905**x*(8*x + 2)/(2*2.71828182845905**x + x)**2 - 2.0*2.71828182845905**x*(4*x**2 + 2*x + 1)/(2*2.71828182845905**x + x)**2 + (-6.0*2.71828182845905**x - 3)*(-4.0*2.71828182845905**x - 2)*(-2.0*2.71828182845905**x - 1)*(4*x**2 + 2*x + 1)/(2*2.71828182845905**x + x)**4 + 3*(-4.0*2.71828182845905**x - 2)*(-2.0*2.71828182845905**x - 1)*(8*x + 2)/(2*2.71828182845905**x + x)**3 + 24*(-2.0*2.71828182845905**x - 1)/(2*2.71828182845905**x + x)**2)/(4*x**2 + 2*x + 1) + 3*(2.0*2.71828182845905**x + 1)*((-2.0*2.71828182845905**x - 1)*(4*x**2 + 2*x + 1)/(2*2.71828182845905**x + x)**2 + (8*x + 2)/(2*2.71828182845905**x + x))/(4*x**2 + 2*x + 1) + 3*(2*2.71828182845905**x + x)*(-8*x - 2)*((-2.0*2.71828182845905**x - 1)*(4*x**2 + 2*x + 1)/(2*2.71828182845905**x + x)**2 + (8*x + 2)/(2*2.71828182845905**x + x))/(4*x**2 + 2*x + 1)**2 + 3*(2*2.71828182845905**x + x)*(-2.0*2.71828182845905**x*(4*x**2 + 2*x + 1)/(2*2.71828182845905**x + x)**2 + (-4.0*2.71828182845905**x - 2)*(-2.0*2.71828182845905**x - 1)*(4*x**2 + 2*x + 1)/(2*2.71828182845905**x + x)**3 + 2*(-2.0*2.71828182845905**x - 1)*(8*x + 2)/(2*2.71828182845905**x + x)**2 + 8/(2*2.71828182845905**x + x))/(4*x**2 + 2*x + 1))\n",
        "\n",
        "y2 = lambda x: np.cos(2*x) + (x**2/20) + np.exp(-2*x)\n",
        "y2_1 = lambda x: x/10 - 2*sin(2*x) - 2.0*2.71828182845905**(-2*x)\n",
        "y2_2 = lambda x: -4*cos(2*x) + 1/10 + 4.0*2.71828182845905**(-2*x)\n",
        "y2_3 = lambda x: 8*sin(2*x) - 8.0*2.71828182845905**(-2*x)\n",
        "\n",
        "x = 0.1\n",
        "dx = 0.05"
      ],
      "execution_count": null,
      "outputs": []
    },
    {
      "cell_type": "markdown",
      "metadata": {
        "id": "xAK670QY2dkE"
      },
      "source": [
        "## **Central Finite Derivative**"
      ]
    },
    {
      "cell_type": "code",
      "metadata": {
        "id": "GZsDP3eK1K4U"
      },
      "source": [
        "def diff_cen(f, x, dx, degree):\n",
        "  if degree%2 == 0:\n",
        "    arr = np.arange((degree/2), -((degree/2)+1), -1)\n",
        "  else:\n",
        "    degree -1 \n",
        "    arr = np.arange((degree/2), -((degree/2)+1), -1)\n",
        "    arr = np.delete(arr, np.where(arr == 0))\n",
        "\n",
        "  f_ans = f(x+(arr ) *dx)\n",
        "  bin = binom_coeffs(degree)\n",
        "  bin[1::2] *= -1\n",
        "  diff = (bin @ f_ans) / dx ** degree\n",
        "  return diff"
      ],
      "execution_count": null,
      "outputs": []
    },
    {
      "cell_type": "code",
      "metadata": {
        "colab": {
          "base_uri": "https://localhost:8080/"
        },
        "id": "4Q5X_yjZ1zYi",
        "outputId": "8b6c1995-d04d-416d-e9ca-6e5be9853e74"
      },
      "source": [
        "diff_cen(f, 0.1, 0.05, 1)"
      ],
      "execution_count": null,
      "outputs": [
        {
          "output_type": "execute_result",
          "data": {
            "text/plain": [
              "-0.4774999999999996"
            ]
          },
          "metadata": {
            "tags": []
          },
          "execution_count": 5
        }
      ]
    },
    {
      "cell_type": "markdown",
      "metadata": {
        "id": "Rba1yRR83E2y"
      },
      "source": [
        "## **Forward Finite Differentiation**"
      ]
    },
    {
      "cell_type": "code",
      "metadata": {
        "id": "_FV6FqVn19Os"
      },
      "source": [
        "def diff_fwd(f,x,dx,degree=2):\n",
        "  f_ans = f(x+((np.arange(degree,-1,-1))*dx)) \n",
        "  bin = binom_coeffs(degree)\n",
        "  bin[1::2] *= -1 \n",
        "  diff = (bin @ f_ans) / dx**degree \n",
        "  return diff"
      ],
      "execution_count": null,
      "outputs": []
    },
    {
      "cell_type": "markdown",
      "metadata": {
        "id": "epWuw0mV7Ilm"
      },
      "source": [
        "## **Backward Finite Differentiation**"
      ]
    },
    {
      "cell_type": "code",
      "metadata": {
        "id": "0ciu1eRU3Zb8"
      },
      "source": [
        "def diff_bwd(f,x,dx,degree=1):\n",
        "  f_ans = f(x+(np.arange(0,-(degree+1),-1))*dx)\n",
        "  bin = binom_coeffs(degree)\n",
        "  bin[1::2] *= -1\n",
        "  diff = (bin @ f_ans) / dx**degree\n",
        "  return diff"
      ],
      "execution_count": null,
      "outputs": []
    },
    {
      "cell_type": "markdown",
      "metadata": {
        "id": "0mn3KB6-7L7H"
      },
      "source": [
        "## **Comparison of approximation errors using the three functions**"
      ]
    },
    {
      "cell_type": "markdown",
      "metadata": {
        "id": "mdr6_X4a767M"
      },
      "source": [
        "### *Using y1 function*"
      ]
    },
    {
      "cell_type": "markdown",
      "metadata": {
        "id": "wdzNJmQnkD-S"
      },
      "source": [
        "### Forward Finite Differentation"
      ]
    },
    {
      "cell_type": "code",
      "metadata": {
        "colab": {
          "base_uri": "https://localhost:8080/"
        },
        "id": "Xr_pYcum6AuW",
        "outputId": "e529a253-13a6-4b4b-a692-2837f059252e"
      },
      "source": [
        "ans = diff_fwd(y1,x,dx,1)\n",
        "ans1 = diff_fwd(y1,x,dx,2)\n",
        "ans2 = diff_fwd(y1,x,dx,3)\n",
        "\n",
        "error = abs(ans - y1_1(x))\n",
        "error1 = abs(ans - y1_2(x))\n",
        "error2 = abs(ans - y1_3(x))\n",
        "\n",
        "print(f'Answer (Degree 1): {ans}, Error Approximation: {error}')\n",
        "print(f'Answer (Degree 2): {ans1}, Error Approximation: {error1}')\n",
        "print(f'Answer (Degree 3): {ans2}, Error Approximation: {error2}')"
      ],
      "execution_count": null,
      "outputs": [
        {
          "output_type": "stream",
          "text": [
            "Answer (Degree 1): -0.4499158496124789, Error Approximation: 0.0532134719020066\n",
            "Answer (Degree 2): 2.1039516581967006, Error Approximation: 2.57018491683887\n",
            "Answer (Degree 3): -1.9844013152638946, Error Approximation: 1.72979100583142\n"
          ],
          "name": "stdout"
        }
      ]
    },
    {
      "cell_type": "markdown",
      "metadata": {
        "id": "HOYaGEv5kcbd"
      },
      "source": [
        "### Backward Finite Differentation"
      ]
    },
    {
      "cell_type": "code",
      "metadata": {
        "colab": {
          "base_uri": "https://localhost:8080/"
        },
        "id": "wlQ5kN6w6dMR",
        "outputId": "4438d9b8-904a-4315-cbfa-58e0a040d249"
      },
      "source": [
        "ans = diff_bwd(y1,x,dx,1)\n",
        "ans1 = diff_bwd(y1,x,dx,2)\n",
        "ans2 = diff_bwd(y1,x,dx,3)\n",
        "\n",
        "error = abs(ans - y1_1(x))\n",
        "error1 = abs(ans - y1_2(x))\n",
        "error2 = abs(ans - y1_3(x))\n",
        "\n",
        "print(f'Answer (Degree 1): {ans}, Error Approximation: {error}')\n",
        "print(f'Answer (Degree 2): {ans1}, Error Approximation: {error1}')\n",
        "print(f'Answer (Degree 3): {ans2}, Error Approximation: {error2}')"
      ],
      "execution_count": null,
      "outputs": [
        {
          "output_type": "stream",
          "text": [
            "Answer (Degree 1): -0.5551914719430662, Error Approximation: 0.0520621504285806\n",
            "Answer (Degree 2): 1.9250486230014459, Error Approximation: 2.67546053916946\n",
            "Answer (Degree 3): 9.635605341683727, Error Approximation: 1.83506662816201\n"
          ],
          "name": "stdout"
        }
      ]
    },
    {
      "cell_type": "markdown",
      "metadata": {
        "id": "Qniduz3vkj7C"
      },
      "source": [
        "### Central Finite Differentation"
      ]
    },
    {
      "cell_type": "code",
      "metadata": {
        "colab": {
          "base_uri": "https://localhost:8080/"
        },
        "id": "AArk-Qiv6k6G",
        "outputId": "68337859-cf1a-4f70-d6c3-e1a3dbf96f47"
      },
      "source": [
        "ans = diff_cen(y1, x, dx, 1)\n",
        "ans1 = diff_cen(y1,x,dx,2)\n",
        "ans2 = diff_cen(y1,x,dx,3)\n",
        "\n",
        "error = abs(ans - y1_1(x))\n",
        "error1 = abs(ans - y1_2(x))\n",
        "error2 = abs(ans - y1_3(x))\n",
        "\n",
        "print(f'Answer (Degree 1): {ans}, Error Approximation: {error}')\n",
        "print(f'Answer (Degree 2): {ans1}, Error Approximation: {error1}')\n",
        "print(f'Answer (Degree 3): {ans2}, Error Approximation: {error2}')"
      ],
      "execution_count": null,
      "outputs": [
        {
          "output_type": "stream",
          "text": [
            "Answer (Degree 1): -0.5029933535452735, Error Approximation: 0.000135967969212003\n",
            "Answer (Degree 2): 2.1055124466117454, Error Approximation: 2.62326242077167\n",
            "Answer (Degree 3): 1.5342976005365823, Error Approximation: 1.78286850976421\n"
          ],
          "name": "stdout"
        }
      ]
    },
    {
      "cell_type": "markdown",
      "metadata": {
        "id": "6wVrB3fm7_jn"
      },
      "source": [
        "### *Using y2 function*"
      ]
    },
    {
      "cell_type": "markdown",
      "metadata": {
        "id": "I-o24hpykRyL"
      },
      "source": [
        "### Forward Finite Differentation"
      ]
    },
    {
      "cell_type": "code",
      "metadata": {
        "colab": {
          "base_uri": "https://localhost:8080/"
        },
        "id": "HW9g1Axm7hX5",
        "outputId": "5d908162-971d-4b64-9234-4e7952278b2f"
      },
      "source": [
        "ans = diff_fwd(y2,x,dx,1)\n",
        "ans1 = diff_fwd(y2,x,dx,2)\n",
        "ans2 = diff_fwd(y2,x,dx,3)\n",
        "\n",
        "error = abs(ans - y2_1(x))\n",
        "error1 = abs(ans - y2_2(x))\n",
        "error2 = abs(ans - y2_3(x))\n",
        "\n",
        "print(f'Answer (Degree 1): {ans}, Error Approximation: {error}')\n",
        "print(f'Answer (Degree 2): {ans1}, Error Approximation: {error1}')\n",
        "print(f'Answer (Degree 3): {ans2}, Error Approximation: {error2}')"
      ],
      "execution_count": null,
      "outputs": [
        {
          "output_type": "stream",
          "text": [
            "Answer (Degree 1): -2.0403524222379854, Error Approximation: 0.0155522544919000\n",
            "Answer (Degree 2): -0.7524194627601232, Error Approximation: 1.49500912318495\n",
            "Answer (Degree 3): -2.9048000785465424, Error Approximation: 2.92013895602538\n"
          ],
          "name": "stdout"
        }
      ]
    },
    {
      "cell_type": "markdown",
      "metadata": {
        "id": "uESwQX9UkfyW"
      },
      "source": [
        "### Backward Finite Differentation"
      ]
    },
    {
      "cell_type": "code",
      "metadata": {
        "colab": {
          "base_uri": "https://localhost:8080/"
        },
        "id": "exQ_okT-700w",
        "outputId": "a58e2aaa-3fc3-49d1-846b-fd7ed987f7ea"
      },
      "source": [
        "ans = diff_bwd(y2,x,dx,1)\n",
        "ans1 = diff_bwd(y2,x,dx,2)\n",
        "ans2 = diff_bwd(y2,x,dx,3)\n",
        "\n",
        "error = abs(ans - y2_1(x))\n",
        "error1 = abs(ans - y2_2(x))\n",
        "error2 = abs(ans - y2_3(x))\n",
        "\n",
        "print(f'Answer (Degree 1): {ans}, Error Approximation: {error}')\n",
        "print(f'Answer (Degree 2): {ans1}, Error Approximation: {error1}')\n",
        "print(f'Answer (Degree 3): {ans2}, Error Approximation: {error2}')"
      ],
      "execution_count": null,
      "outputs": [
        {
          "output_type": "stream",
          "text": [
            "Answer (Degree 1): -2.013385047895242, Error Approximation: 0.0114151198508434\n",
            "Answer (Degree 2): -0.2543342834989914, Error Approximation: 1.46804174884220\n",
            "Answer (Degree 3): -7.220019011253241, Error Approximation: 2.94710633036812\n"
          ],
          "name": "stdout"
        }
      ]
    },
    {
      "cell_type": "markdown",
      "metadata": {
        "id": "9DAArH0tknIc"
      },
      "source": [
        "### Central Finite Differentation"
      ]
    },
    {
      "cell_type": "code",
      "metadata": {
        "colab": {
          "base_uri": "https://localhost:8080/"
        },
        "id": "YuEIMPCm73C-",
        "outputId": "7c5be7fe-eae2-4257-d3ca-b745750deff8"
      },
      "source": [
        "ans = diff_cen(y2, x, dx, 1)\n",
        "ans1 = diff_cen(y2,x,dx,2)\n",
        "ans2 = diff_cen(y2,x,dx,3)\n",
        "\n",
        "error = abs(ans - y2_1(x))\n",
        "error1 = abs(ans - y2_2(x))\n",
        "error2 = abs(ans - y2_3(x))\n",
        "\n",
        "print(f'Answer (Degree 1): {ans}, Error Approximation: {error}')\n",
        "print(f'Answer (Degree 2): {ans1}, Error Approximation: {error1}')\n",
        "print(f'Answer (Degree 3): {ans2}, Error Approximation: {error2}')"
      ],
      "execution_count": null,
      "outputs": [
        {
          "output_type": "stream",
          "text": [
            "Answer (Degree 1): -2.025316991581012, Error Approximation: 0.000516823834926683\n",
            "Answer (Degree 2): -0.5393474868548686, Error Approximation: 1.47997369252797\n",
            "Answer (Degree 3): -4.970668739488814, Error Approximation: 2.93517438668235\n"
          ],
          "name": "stdout"
        }
      ]
    },
    {
      "cell_type": "markdown",
      "metadata": {
        "id": "fjTenrAyo_b8"
      },
      "source": [
        "## **Exploration of uses of Taylor Expansion**"
      ]
    },
    {
      "cell_type": "code",
      "metadata": {
        "colab": {
          "base_uri": "https://localhost:8080/"
        },
        "id": "adQK_Tijt9IT",
        "outputId": "9a505af9-3f86-40ff-8995-0f6baa1c05d5"
      },
      "source": [
        "f = ((4*x**2 + 2*x + 1) / (x + 2 * e**x)) ** x\n",
        "f1 = cos(2*x) + (x**2/20) + e*(-2*x)\n",
        "x0 = np.pi * 2\n",
        "n = 7\n",
        "\n",
        "# Factorial function\n",
        "def factorial(n):\n",
        "    if n <= 0:\n",
        "        return 1\n",
        "    else:\n",
        "        return n * factorial(n - 1)\n",
        "\n",
        "# Taylor approximation at x0 of the function 'function'\n",
        "def taylor(function, x0, n, x = sy.Symbol('x')):\n",
        "    i = 0\n",
        "    p = 0\n",
        "    while i <= n:\n",
        "        p = p + (function.diff(x, i).subs(x, x0))/(factorial(i))*(x - x0)**i\n",
        "        i += 1\n",
        "    return p\n",
        "\n",
        "print(\"For equation 1: \")\n",
        "for j in range(1, n + 1, 2):\n",
        "        func = taylor(f, x0, j)\n",
        "        taylor_lambda = sy.lambdify(x, func, \"numpy\")\n",
        "        print('Taylor expansion at n=' + str(j), func)\n",
        "\n",
        "print(\"\\nFor equation 2: \")\n",
        "for j in range(1, n + 1, 2):\n",
        "        func = taylor(f1, x0, j)\n",
        "        taylor_lambda = sy.lambdify(x, func, \"numpy\")\n",
        "        print('Taylor expansion at n=' + str(j), func)"
      ],
      "execution_count": null,
      "outputs": [
        {
          "output_type": "stream",
          "text": [
            "For equation 1: \n",
            "Taylor expansion at n=1 0.000384769233017262 - 5.96992401727826e-5*x\n",
            "Taylor expansion at n=3 -5.96992401727826e-5*x - 0.0815699670902436*(0.159154943091895*x - 1)**3 + 0.00695309609550116*(0.159154943091895*x - 1)**2 + 0.000384769233017262\n",
            "Taylor expansion at n=5 -5.96992401727826e-5*x - 4.15608064726148*(0.159154943091895*x - 1)**5 + 0.675340254143447*(0.159154943091895*x - 1)**4 - 0.0815699670902436*(0.159154943091895*x - 1)**3 + 0.00695309609550116*(0.159154943091895*x - 1)**2 + 0.000384769233017262\n",
            "Taylor expansion at n=7 -5.96992401727826e-5*x - 68.4544985429701*(0.159154943091895*x - 1)**7 + 19.4181331643364*(0.159154943091895*x - 1)**6 - 4.15608064726148*(0.159154943091895*x - 1)**5 + 0.675340254143447*(0.159154943091895*x - 1)**4 - 0.0815699670902436*(0.159154943091895*x - 1)**3 + 0.00695309609550116*(0.159154943091895*x - 1)**2 + 0.000384769233017262\n",
            "\n",
            "For equation 2: \n",
            "Taylor expansion at n=1 -4.80824512620013*x - 0.973920880217872\n",
            "Taylor expansion at n=3 -4.80824512620013*x - 1.62012746624027e-13*(0.159154943091895*x - 1)**3 - 76.982914328497*(0.159154943091895*x - 1)**2 - 0.973920880217872\n",
            "Taylor expansion at n=5 -4.80824512620013*x + 1.27920137369046e-12*(0.159154943091895*x - 1)**5 + 1039.03030436269*(0.159154943091895*x - 1)**4 - 1.62012746624027e-13*(0.159154943091895*x - 1)**3 - 76.982914328497*(0.159154943091895*x - 1)**2 - 0.973920880217872\n",
            "Taylor expansion at n=7 -4.80824512620013*x - 4.80960438386854e-12*(0.159154943091895*x - 1)**7 - 5469.2363012284*(0.159154943091895*x - 1)**6 + 1.27920137369046e-12*(0.159154943091895*x - 1)**5 + 1039.03030436269*(0.159154943091895*x - 1)**4 - 1.62012746624027e-13*(0.159154943091895*x - 1)**3 - 76.982914328497*(0.159154943091895*x - 1)**2 - 0.973920880217872\n"
          ],
          "name": "stdout"
        }
      ]
    },
    {
      "cell_type": "code",
      "metadata": {
        "colab": {
          "base_uri": "https://localhost:8080/",
          "height": 384
        },
        "id": "hC0-7lVDvL03",
        "outputId": "767fa650-5c26-4596-f1a1-5cc7d371f2e9"
      },
      "source": [
        "x = np.linspace(-np.pi, np.pi, 200)\n",
        "y = np.zeros(len(x))\n",
        "y1 = ((4*x**2 + 2*x + 1) / (x + 2 * np.exp(x))) ** x\n",
        "y2 = np.cos(2*x) + (x**2/20) + np.exp(-2*x)\n",
        "\n",
        "\n",
        "labels = ['First Order', 'Third Order', 'Fifth Order', 'Seventh Order']\n",
        "\n",
        "plt.figure(figsize = (8,5))\n",
        "\n",
        "for n, label in zip(range(4), labels):\n",
        "    y = y + ((-1)**n * (x)**(2*n+1)) / np.math.factorial(2*n+1)\n",
        "    plt.plot(x,y, label = label)\n",
        "\n",
        "plt.plot(x, y1, 'k', label = 'Analytic')\n",
        "plt.grid()\n",
        "plt.title('Taylor Series Approximations of Various Orders')\n",
        "plt.xlabel('x')\n",
        "plt.ylabel('y')\n",
        "plt.legend()\n",
        "plt.show()"
      ],
      "execution_count": null,
      "outputs": [
        {
          "output_type": "stream",
          "text": [
            "/usr/local/lib/python3.7/dist-packages/ipykernel_launcher.py:3: RuntimeWarning: invalid value encountered in power\n",
            "  This is separate from the ipykernel package so we can avoid doing imports until\n"
          ],
          "name": "stderr"
        },
        {
          "output_type": "display_data",
          "data": {
            "image/png": "[encoded data removed]",
            "text/plain": [
              "<Figure size 576x360 with 1 Axes>"
            ]
          },
          "metadata": {
            "tags": [],
            "needs_background": "light"
          }
        }
      ]
    },
    {
      "cell_type": "code",
      "metadata": {
        "colab": {
          "base_uri": "https://localhost:8080/",
          "height": 384
        },
        "id": "CSzcVp_TtjCo",
        "outputId": "0a01c447-139b-4179-d783-53e4d795069e"
      },
      "source": [
        "x = np.linspace(-np.pi, np.pi, 200)\n",
        "y = np.zeros(len(x))\n",
        "y1 = ((4*x**2 + 2*x + 1) / (x + 2 * np.exp(x))) ** x\n",
        "y2 = np.cos(2*x) + (x**2/20) + np.exp(-2*x)\n",
        "\n",
        "\n",
        "labels = ['First Order', 'Third Order', 'Fifth Order', 'Seventh Order']\n",
        "\n",
        "plt.figure(figsize = (8,5))\n",
        "\n",
        "for n, label in zip(range(4), labels):\n",
        "    y = y + ((-1)**n * (x)**(2*n+1)) / np.math.factorial(2*n+1)\n",
        "    plt.plot(x,y, label = label)\n",
        "\n",
        "plt.plot(x, y2, 'k', label = 'Analytic')\n",
        "plt.grid()\n",
        "plt.title('Taylor Series Approximations of Various Orders')\n",
        "plt.xlabel('x')\n",
        "plt.ylabel('y')\n",
        "plt.legend()\n",
        "plt.show()"
      ],
      "execution_count": null,
      "outputs": [
        {
          "output_type": "stream",
          "text": [
            "/usr/local/lib/python3.7/dist-packages/ipykernel_launcher.py:3: RuntimeWarning: invalid value encountered in power\n",
            "  This is separate from the ipykernel package so we can avoid doing imports until\n"
          ],
          "name": "stderr"
        },
        {
          "output_type": "display_data",
          "data": {
            "image/png": "[encoded data removed]",
            "text/plain": [
              "<Figure size 576x360 with 1 Axes>"
            ]
          },
          "metadata": {
            "tags": [],
            "needs_background": "light"
          }
        }
      ]
    }
  ]
}
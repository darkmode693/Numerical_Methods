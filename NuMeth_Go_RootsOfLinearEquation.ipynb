{
  "nbformat": 4,
  "nbformat_minor": 0,
  "metadata": {
    "colab": {
      "name": "NuMeth_Go_RootsOfLinearEquation.ipynb",
      "provenance": [],
      "collapsed_sections": [],
      "include_colab_link": true
    },
    "kernelspec": {
      "name": "python3",
      "display_name": "Python 3"
    }
  },
  "cells": [
    {
      "cell_type": "markdown",
      "metadata": {
        "id": "view-in-github",
        "colab_type": "text"
      },
      "source": [
        "<a href=\"https://colab.research.google.com/github/darkmode693/Numerical_Methods/blob/main/NuMeth_Go_RootsOfLinearEquation.ipynb\" target=\"_parent\"><img src=\"https://colab.research.google.com/assets/colab-badge.svg\" alt=\"Open In Colab\"/></a>"
      ]
    },
    {
      "cell_type": "markdown",
      "metadata": {
        "id": "1pYmOCClww5E"
      },
      "source": [
        "# Roots of Linear Equation\n",
        "*Submitted by: Go Group* <br>\n",
        "*Submitted to: Engr. Dylan Josh Lopez*<br>\n",
        "*Section: 58015*"
      ]
    },
    {
      "cell_type": "markdown",
      "metadata": {
        "id": "iRlnPW18mrct"
      },
      "source": [
        "First you need to import the package \"rootsoflinearequation\" to be able to use the functions inside it."
      ]
    },
    {
      "cell_type": "code",
      "metadata": {
        "id": "o_hNLIa6jEhr"
      },
      "source": [
        "import rootsoflinearequation as rt"
      ],
      "execution_count": null,
      "outputs": []
    },
    {
      "cell_type": "markdown",
      "metadata": {
        "id": "lG30KYpcm_aM"
      },
      "source": [
        "# iterative_method function\n",
        "\n",
        "This function returns the list of roots found in the equation and the number of iterations lapsed while finding the roots of the equation.<br><br>\n",
        "\n",
        "The function requires five parameters:\n",
        "<br><br>\n",
        "1) equation - A list that contains functions that returns the equation that will be tested.\n",
        "\n",
        "2) n_roots - The number of roots that will be displayed or determined.\n",
        "\n",
        "3) epochs - The number of iterations. \n",
        "\n",
        "4) precision - Precision or tolerance in checking the similarities.\n",
        "\n",
        "5) x - Starting value or guess. (Usually zero)"
      ]
    },
    {
      "cell_type": "code",
      "metadata": {
        "colab": {
          "base_uri": "https://localhost:8080/"
        },
        "id": "M8BFVRAulC9n",
        "outputId": "d030250e-2f13-479d-94ad-d535fa16b000"
      },
      "source": [
        "def f1(x): return 2-x**2\n",
        "def f2(x): return np.sqrt(2-x)\n",
        "\n",
        "equations = [f1, f2]\n",
        "\n",
        "##rt.iterative_method(equations, n_roots, epochs, precision, x)\n",
        "rt.iterative_method(equations, 3, 100, 2e-03, 0)"
      ],
      "execution_count": null,
      "outputs": [
        {
          "output_type": "stream",
          "text": [
            "The roots are [-2, 0.9991142250901637] found after 12 epochs\n"
          ],
          "name": "stdout"
        }
      ]
    },
    {
      "cell_type": "markdown",
      "metadata": {
        "id": "Mlft5T2JqaLi"
      },
      "source": [
        "Step 1: You need to declare functions that returns the equation to be tested. In the example above, it can be seen that function f1 and f2 are declared. <br><br>\n",
        "Step 2: Create a list and insert the functions that you gave created. In the example above, the variable that was created is equations then the created functions were insert to it<br><br>\n",
        "Step 3: Call the function that you desired to use, in this case iterative_method is the function that will be used. Insert the required parameters then run the program and it will give you the results/output. "
      ]
    },
    {
      "cell_type": "markdown",
      "metadata": {
        "id": "rX74_lNNmpKZ"
      },
      "source": [
        "# newton_raphson function\n",
        "\n",
        "This function returns the list of roots of a given equation using the Newton-Raphson method.<br><br>\n",
        "\n",
        "The equation takes four parameters:\n",
        "\n",
        "1) equations - This is the parameter that returns an equation to be tested.\n",
        "\n",
        "2) equation_prime - This parameter returns the derivative of the equations paramter.\n",
        "\n",
        "3) epochs - This is the parameter that lets the user determine how many times the loop will iterate.\n",
        "\n",
        "4) x_inits - This is the parameter that determines range of the guesses. "
      ]
    },
    {
      "cell_type": "code",
      "metadata": {
        "colab": {
          "base_uri": "https://localhost:8080/"
        },
        "id": "2RYkf729lvA1",
        "outputId": "95aee142-9338-4f71-8d4a-52b3800b8860"
      },
      "source": [
        "def a(x): return 2*x**2 - 5*x + 3\n",
        "def a_prime(x): return 4*x - 5\n",
        "\n",
        "x_inits = np.arange(0,4)\n",
        "\n",
        "#newton_raphson(equation, equation_prime, epochs, x_inits):\n",
        "rt.newton_raphson(a, a_prime, 100000, x_inits)"
      ],
      "execution_count": null,
      "outputs": [
        {
          "output_type": "stream",
          "text": [
            "The roots are: [1.  1.5], found at epoch 7\n"
          ],
          "name": "stdout"
        }
      ]
    },
    {
      "cell_type": "markdown",
      "metadata": {
        "id": "wm07bsDSuooP"
      },
      "source": [
        "Step 1: Declare a function that returns the equation and its derivative that will be later called in the parameter.<br><br>\n",
        "Step 2: Use np.arange in order to set the range of the guesses. Input two values inside the parameter. The first parameter will be the starting point and the second parameter is the ending point. Insert the np.arange function into a variable that will be inserted in the parameter later.<br><br>\n",
        "Step 3: Call the  function name which is “newton_rapshon” then input all the parameters  inside the parenthesis. Use a comma between each parameter."
      ]
    },
    {
      "cell_type": "markdown",
      "metadata": {
        "id": "KWbu0aPmsfTO"
      },
      "source": [
        "# Activity 2.1\n",
        "\n",
        "\n",
        "1. Identify two more polynomials preferably orders higher than 2 and two transcendental functions. Write them in LaTex.\n",
        "\n",
        "2. Plot their graphs you may choose your own set of pre-images.\n",
        "\n",
        "3. Manually solve for their roots and plot them along the graph of the equation."
      ]
    },
    {
      "cell_type": "markdown",
      "metadata": {
        "id": "dlwRfdGosmE2"
      },
      "source": [
        "# Formulated Equations\n",
        "$$first\\_eq(x) = x^3 - 6x^2 + 11x - 6$$\n",
        "$$second\\_eq(x) = x^5 - 8x^3 + 15x$$\n",
        "$$third\\_eq(x) = 3x - cosx - 1$$\n",
        "$$fourth\\_eq(x) = sinx + 10x -7$$"
      ]
    },
    {
      "cell_type": "code",
      "metadata": {
        "id": "jOkfkTLassQb"
      },
      "source": [
        "## Declared functions\n",
        "def first_eq(x): return x**3 - 6*x**2 + 11*x - 6\n",
        "def second_eq(x): return x**5 - 8*x**3 + 15*x\n",
        "def third_eq(x): return 3*x - np.cos(x) - 1\n",
        "def fourth_eq(x): return np.sin(x) + 10*x - 7"
      ],
      "execution_count": null,
      "outputs": []
    },
    {
      "cell_type": "markdown",
      "metadata": {
        "id": "BSGe0DGvs_Ug"
      },
      "source": [
        "# Manual Computation of the Equations"
      ]
    },
    {
      "cell_type": "markdown",
      "metadata": {
        "id": "ydkHNY9UtGRA"
      },
      "source": [
        "$$\n",
        "f(x)=x^{3}-6x^{2}+11x - 6\n",
        "\\ _{\\text{(Polynomial 1)}}$$\n",
        "\n",
        "$$ FACTOR: x^{3}-6x^{2}+11x - 6 \\\n",
        "= (x-1)(x^2-5x+6) \\\\ FACTOR: x^2-5x+6 \\ \n",
        "= (x-2)(x-3) \\\n",
        ".˙. x^{3}-6x^{2}+11x - 6 = (x-1)(x-2)(x-3) \\ \n",
        "$$\n",
        "\n",
        "The roots are\n",
        "$$\n",
        "x - 1 = 0 -> x = 1 \\\\\n",
        "x - 2 = 0 -> x = 2 \\\\\n",
        "x - 3 = 0 -> x = 3 \\\\\n",
        "$$\n",
        "\n",
        "Transcendental Polynomial 1\n",
        "\n",
        "$$ \n",
        "\\ f(x) = 3x - cosx - 1 \\\n",
        "f'(x) = sinx + 3 \\\n",
        "x0 = 1\n",
        "$$\n",
        "\n",
        "| x0           | f(x)        | f'(x)       | new x0       |\n",
        "|--------------|-------------|-------------|--------------|\n",
        "| 1            | 1.000152305 | 3.017452406 | 0.6685441326 |\n",
        "| 0.6685441326 | 0.005700471 | 3.011668032 | 0.6666513371 |\n",
        "| 0.6666513371 | 0.00000008  | 3.052539322 | 0.6666441317 |\n",
        "| 0.666644     | 0.00000008  | 3.05251662  | 0.6666441043 |\n",
        "\n",
        "$$\n",
        "{\\text{Root is: 0.666644 at }} 10^{-6} {\\text{ precision}}\n",
        "$$"
      ]
    },
    {
      "cell_type": "markdown",
      "metadata": {
        "id": "drg7svmCtTV9"
      },
      "source": [
        "$$\n",
        "f(x)=x^{5}-8x^{3}+15x = 0\n",
        "\\ _{\\text{(Polynomial 2)}}$$\n",
        "\n",
        "$$ FACTOR: x^{4}-8x^{2}+15 \\\n",
        "= (x^2-3)(x^2-5) \\\n",
        "(x^2 - 3 = 0)(x^2-5 = 0)\\ (\\sqrt{x^2} = \\sqrt{3})(\\sqrt{x^2} = \\sqrt{5})\\\n",
        "$$\n",
        "\n",
        "The roots are\n",
        "$$\n",
        "x = 0  \\\n",
        "x = 1.732050808\\\n",
        "x = 2.236067977\\ \n",
        "$$\n",
        "\n",
        "\n",
        "\n",
        "Transcendental Polynomial 2\n",
        "\n",
        "$$ \n",
        "\\ f(x) = sinx + 10x - 7 \\\n",
        "f'(x) = cosx + 10 \\\n",
        "x0 = 1\n",
        "$$\n",
        "\n",
        "| x0           | f(x)        | f'(x)       | new x0       |\n",
        "|--------------|-------------|-------------|--------------|\n",
        "| 1            | 3.841470985 | 10.54030231 | 0.635544515  |\n",
        "| 0.635544515  |-0.050939049 | 10.80474858 | 0.64025902   |\n",
        "| 0.64025902   |-0.000006612 | 10.80194105 | 1.000000612  |\n",
        "| 1.000000612  | 3.841477437 | 10.54030179 | 0.635544497  |\n",
        "| 0.635544497  |-0.050939244 | 10.80474859 | 0.64025902   |\n",
        "| 0.64025902   |-0.000006611 | 10.80194105 | 0.640259632  |\n",
        "\n",
        "$$\n",
        "{\\text{Root is: 0.640259632}} \n",
        "$$"
      ]
    },
    {
      "cell_type": "markdown",
      "metadata": {
        "id": "41PxO02ytdCM"
      },
      "source": [
        "# Graphs of the Equations with the Plotted Root"
      ]
    },
    {
      "cell_type": "code",
      "metadata": {
        "colab": {
          "base_uri": "https://localhost:8080/",
          "height": 320
        },
        "id": "1sS_ixxZsuIK",
        "outputId": "756f675a-199a-48e9-b76b-6605aa4c5781"
      },
      "source": [
        "x0, x1, x3 = 1, 2, 3\n",
        "\n",
        "X = np.arange(-5,5,0.5,dtype=float)\n",
        "Y = first_eq(X)\n",
        "### Now let's plot the images against the pre-images\n",
        "plt.figure(figsize=(10,5))\n",
        "plt.plot(X,Y,color='dodgerblue')\n",
        "### Let's show the x and y axes of the graph\n",
        "plt.axhline(color='black')\n",
        "plt.axvline(color='black')\n",
        "plt.grid()\n",
        "### Now let's plot the roots of the equation\n",
        "plt.scatter([x0,x1,x3],[0,0,0], c='red', label='roots')\n",
        "\n",
        "plt.legend()\n",
        "plt.show()"
      ],
      "execution_count": null,
      "outputs": [
        {
          "output_type": "display_data",
          "data": {
            "image/png": "[encoded data removed]",
            "text/plain": [
              "<Figure size 720x360 with 1 Axes>"
            ]
          },
          "metadata": {
            "tags": [],
            "needs_background": "light"
          }
        }
      ]
    },
    {
      "cell_type": "code",
      "metadata": {
        "colab": {
          "base_uri": "https://localhost:8080/",
          "height": 320
        },
        "id": "mY6TvSAkvYx4",
        "outputId": "7e222bcf-6bc2-456f-bb94-75004470ab81"
      },
      "source": [
        "x0, x1, x2 = 0, 1.7, 2.2\n",
        "\n",
        "X = np.arange(-5,6,0.5,dtype=float)\n",
        "Y = second_eq(X)\n",
        "### Now let's plot the images against the pre-images\n",
        "plt.figure(figsize=(10,5))\n",
        "plt.plot(X,Y,color='dodgerblue')\n",
        "### Let's show the x and y axes of the graph\n",
        "plt.axhline(color='black')\n",
        "plt.axvline(color='black')\n",
        "plt.grid()\n",
        "### Now let's plot the roots of the equation\n",
        "plt.scatter([x0,x1,x2],[0,0,0], c='red', label='roots')\n",
        "\n",
        "plt.legend()\n",
        "plt.show()"
      ],
      "execution_count": null,
      "outputs": [
        {
          "output_type": "display_data",
          "data": {
            "image/png": "[encoded data removed]",
            "text/plain": [
              "<Figure size 720x360 with 1 Axes>"
            ]
          },
          "metadata": {
            "tags": [],
            "needs_background": "light"
          }
        }
      ]
    },
    {
      "cell_type": "code",
      "metadata": {
        "colab": {
          "base_uri": "https://localhost:8080/",
          "height": 320
        },
        "id": "G6SzsP33vdbK",
        "outputId": "5dfdefce-c739-498a-b3dc-8af611a145d4"
      },
      "source": [
        "x0 = 0.66\n",
        "\n",
        "X = np.arange(-5,6,0.5,dtype=float)\n",
        "Y = third_eq(X)\n",
        "### Now let's plot the images against the pre-images\n",
        "plt.figure(figsize=(10,5))\n",
        "plt.plot(X,Y,color='dodgerblue')\n",
        "### Let's show the x and y axes of the graph\n",
        "plt.axhline(color='black')\n",
        "plt.axvline(color='black')\n",
        "plt.grid()\n",
        "### Now let's plot the roots of the equation\n",
        "plt.scatter([x0],[0], c='red', label='roots')\n",
        "\n",
        "plt.legend()\n",
        "plt.show()"
      ],
      "execution_count": null,
      "outputs": [
        {
          "output_type": "display_data",
          "data": {
            "image/png": "[encoded data removed]",
            "text/plain": [
              "<Figure size 720x360 with 1 Axes>"
            ]
          },
          "metadata": {
            "tags": [],
            "needs_background": "light"
          }
        }
      ]
    },
    {
      "cell_type": "code",
      "metadata": {
        "colab": {
          "base_uri": "https://localhost:8080/",
          "height": 320
        },
        "id": "I7StUb6Wvfrd",
        "outputId": "46f12e85-e7c6-47e9-ff7f-16788e8e89b4"
      },
      "source": [
        "x0 = 0.64\n",
        "\n",
        "X = np.arange(-5,6,0.5,dtype=float)\n",
        "Y = fourth_eq(X)\n",
        "### Now let's plot the images against the pre-images\n",
        "plt.figure(figsize=(10,5))\n",
        "plt.plot(X,Y,color='dodgerblue')\n",
        "### Let's show the x and y axes of the graph\n",
        "plt.axhline(color='black')\n",
        "plt.axvline(color='black')\n",
        "plt.grid()\n",
        "### Now let's plot the roots of the equation\n",
        "plt.scatter([x0],[0], c='red', label='roots')\n",
        "\n",
        "plt.legend()\n",
        "plt.show()"
      ],
      "execution_count": null,
      "outputs": [
        {
          "output_type": "display_data",
          "data": {
            "image/png": "[encoded data removed]",
            "text/plain": [
              "<Figure size 720x360 with 1 Axes>"
            ]
          },
          "metadata": {
            "tags": [],
            "needs_background": "light"
          }
        }
      ]
    }
  ]
}
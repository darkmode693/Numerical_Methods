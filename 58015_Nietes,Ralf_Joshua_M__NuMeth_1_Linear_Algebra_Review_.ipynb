{
  "nbformat": 4,
  "nbformat_minor": 0,
  "metadata": {
    "kernelspec": {
      "display_name": "Python 3",
      "language": "python",
      "name": "python3"
    },
    "language_info": {
      "codemirror_mode": {
        "name": "ipython",
        "version": 3
      },
      "file_extension": ".py",
      "mimetype": "text/x-python",
      "name": "python",
      "nbconvert_exporter": "python",
      "pygments_lexer": "ipython3",
      "version": "3.8.3"
    },
    "colab": {
      "name": "58015_Nietes,Ralf Joshua M._NuMeth_1_Linear_Algebra_Review .ipynb",
      "provenance": [],
      "collapsed_sections": [],
      "include_colab_link": true
    }
  },
  "cells": [
    {
      "cell_type": "markdown",
      "metadata": {
        "id": "view-in-github",
        "colab_type": "text"
      },
      "source": [
        "<a href=\"https://colab.research.google.com/github/darkmode693/Numerical_Methods/blob/main/58015_Nietes%2CRalf_Joshua_M__NuMeth_1_Linear_Algebra_Review_.ipynb\" target=\"_parent\"><img src=\"https://colab.research.google.com/assets/colab-badge.svg\" alt=\"Open In Colab\"/></a>"
      ]
    },
    {
      "cell_type": "markdown",
      "metadata": {
        "id": "LZNhLYYgVqdN"
      },
      "source": [
        "# Activity 2: Linear Algebra Review\n",
        "*by: Ralf Joshua M. Nietes*<br>\n",
        "*February 24, 2021*"
      ]
    },
    {
      "cell_type": "markdown",
      "metadata": {
        "id": "IqgHNU_TVqdV"
      },
      "source": [
        "# Practice 1: Modulus of a Vector"
      ]
    },
    {
      "cell_type": "code",
      "metadata": {
        "id": "0VnpYMYcVqdV"
      },
      "source": [
        "import numpy as np\n",
        "import matplotlib.pyplot as plt"
      ],
      "execution_count": null,
      "outputs": []
    },
    {
      "cell_type": "code",
      "metadata": {
        "id": "ABsk1eehVqdW",
        "outputId": "f1f625c2-5914-488e-8885-125c23e72689"
      },
      "source": [
        "my_matrix = np.array([4, 3,5,8])\n",
        "sum = 0\n",
        "for element in my_matrix:\n",
        "    sqrd = element**2\n",
        "    sum = sum + sqrd\n",
        "    ans = np.sqrt(sum)\n",
        "print(\"The final answer is\",ans)\n",
        "print()\n",
        "print(\"Checking the answer with np.lingalg.norm function\",np.linalg.norm(my_matrix))"
      ],
      "execution_count": null,
      "outputs": [
        {
          "output_type": "stream",
          "text": [
            "The final answer is 10.677078252031311\n",
            "\n",
            "Checking the answer with np.lingalg.norm function 10.677078252031311\n"
          ],
          "name": "stdout"
        }
      ]
    },
    {
      "cell_type": "markdown",
      "metadata": {
        "id": "vDaQlPqMVqdY"
      },
      "source": [
        "I first made a matrix and then set the sum to 0. I used for loop to reiterate each element of the matrix. Inside the for loop, I wrote all the computation needed to get the right answer. I used one of NumPy's functions, \"np.sqrt,\" to find my answer's square root. I also used another NumPy function, np.linalg.norm, to check if I got the correct formula. "
      ]
    },
    {
      "cell_type": "markdown",
      "metadata": {
        "id": "wwaxmy1uVqdY"
      },
      "source": [
        "# Practice 2: The Sigmoid"
      ]
    },
    {
      "cell_type": "code",
      "metadata": {
        "id": "gkldveq3VqdZ",
        "outputId": "8dcfdf48-3db7-450a-9887-d23066ce4683"
      },
      "source": [
        "def sigmoid(array1):\n",
        "    return 1/(1+np.exp(-array1))\n",
        "\n",
        "array1_1 = np.array([4, 3,5,8])\n",
        "print(sigmoid(array1_1))"
      ],
      "execution_count": null,
      "outputs": [
        {
          "output_type": "stream",
          "text": [
            "[0.98201379 0.95257413 0.99330715 0.99966465]\n"
          ],
          "name": "stdout"
        }
      ]
    },
    {
      "cell_type": "markdown",
      "metadata": {
        "id": "o9_uzjRQVqdZ"
      },
      "source": [
        "I used function and return the formula of the Sigmoid function. Np.exp helps in computing e^x.  The value of x will depend on the programmer or the user. In the end, the sigmoid of every element in the array was computed. "
      ]
    },
    {
      "cell_type": "code",
      "metadata": {
        "id": "WTsUrOs_Vqda",
        "outputId": "98f11b21-d6c2-4a98-de9c-f2ef35f9c596"
      },
      "source": [
        "nums = np.arange(-8,8,0.1)\n",
        "result = sigmoid(nums)\n",
        "\n",
        "plt.plot(nums,result)\n",
        "plt.show()"
      ],
      "execution_count": null,
      "outputs": [
        {
          "output_type": "display_data",
          "data": {
            "image/png": "[encoded data removed]",
            "text/plain": [
              "<Figure size 432x288 with 1 Axes>"
            ]
          },
          "metadata": {
            "tags": [],
            "needs_background": "light"
          }
        }
      ]
    },
    {
      "cell_type": "markdown",
      "metadata": {
        "id": "HITf9D2MVqda"
      },
      "source": [
        "I created an array using np.arange where the argument will be the starting number and the second is to stop it, and the last one is the interval. I also used two matplotlib functions to imitate the sigmoid function."
      ]
    }
  ]
}
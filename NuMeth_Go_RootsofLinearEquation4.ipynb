{
  "nbformat": 4,
  "nbformat_minor": 0,
  "metadata": {
    "colab": {
      "name": "NuMeth_Go_RootsofLinearEquation4.ipynb",
      "provenance": [],
      "collapsed_sections": []
    },
    "kernelspec": {
      "name": "python3",
      "display_name": "Python 3"
    }
  },
  "cells": [
    {
      "cell_type": "markdown",
      "metadata": {
        "id": "h1cDY8XfQqCj"
      },
      "source": [
        "#Roots of Linear Equation¶\n",
        "*Submitted by: Go Group*<br>\n",
        "*Submitted to: Engr. Dylan Josh Lopez*<br>\n",
        "*Section: 58015*<br><br>\n",
        "First you need to import the package \"rootsoflinearequation4\" to be able to use the functions inside it."
      ]
    },
    {
      "cell_type": "code",
      "metadata": {
        "id": "b3vLObZIRfp_"
      },
      "source": [
        "import rootsoflinearequation4 as rt"
      ],
      "execution_count": null,
      "outputs": []
    },
    {
      "cell_type": "markdown",
      "metadata": {
        "id": "C5yXSBdrRR0F"
      },
      "source": [
        "#Bisection Method\n",
        "\n",
        "This function returns the list of roots of a given equation using the Bisection Method method.<br><br>\n",
        "\n",
        "The requires five parameters:\n",
        "\n",
        "1) equations - This is the parameter that returns an equation to be tested.\n",
        "\n",
        "2) i1 - This is the parameter that sets the value of x in the equation chosen by the user. This gives value to y1.\n",
        "\n",
        "3) i2 - This is the second value that the user will input, and this will be the value of x in the chosen equation. This gives value to y2.\n",
        "\n",
        "4) epochs - This is the parameter that lets the user determine how many times the loop will iterate.\n",
        "\n",
        "5) n_roots - The number of roots that will be displayed or determined."
      ]
    },
    {
      "cell_type": "code",
      "metadata": {
        "colab": {
          "base_uri": "https://localhost:8080/"
        },
        "id": "MZ-rtZbORRM7",
        "outputId": "a586a6ce-8631-44fd-ddb0-99b00113aa3c"
      },
      "source": [
        "def f(x): return x**3 - x - 1\n",
        "\n",
        "#bisection_method(equation, i1, i2, epochs, precision, n_roots):\n",
        "rt.bisection_method(f, 1.1, 3, 10000, 1e-06, 3)"
      ],
      "execution_count": null,
      "outputs": [
        {
          "output_type": "stream",
          "text": [
            "The roots are: [1.3247179554775355, 1.3247179554775355, 1.324717956362292], found at epoch 31\n"
          ],
          "name": "stdout"
        }
      ]
    },
    {
      "cell_type": "markdown",
      "metadata": {
        "id": "iPh005cdRSqI"
      },
      "source": [
        "Step 1: Declare a function that returns the equation that will be later called in the parameter.<br><br>\n",
        "\n",
        "Step 2: Call the function name which is “bisection_method” then input all the parameters inside the parenthesis. Use a comma between each parameter."
      ]
    },
    {
      "cell_type": "markdown",
      "metadata": {
        "id": "75f-Mgc_RClx"
      },
      "source": [
        "# Regula Falsi Method\n",
        "\n",
        "This function returns the roots of equation and the epochs/iteration lapsed when finding the roots of the equation.<br><br>\n",
        "\n",
        "This function requires six parameters:\n",
        "\n",
        "1) equation - A list that contains functions that returns the equation that will be tested.\n",
        "\n",
        "2) a & b - Assumed interval or values.\n",
        "\n",
        "3) epochs - The number of iterations.\n",
        "\n",
        "4) precision - Precision or tolerance in checking the similarities.\n",
        "\n",
        "5) n_roots - The number of roots that will be displayed or determined."
      ]
    },
    {
      "cell_type": "code",
      "metadata": {
        "colab": {
          "base_uri": "https://localhost:8080/"
        },
        "id": "7fSgjxfdRDXo",
        "outputId": "6294a1a6-2ae9-44f4-809a-1249e5fb495d"
      },
      "source": [
        "def d(x): return x**3 + 4*x**2 - 3*x - 18 \n",
        "\n",
        "#regula_falsi(equation, a, b, epochs, precision, n_roots):\n",
        "rt.regula_falsi(d, 0, 2.5, 100, 0, 2)"
      ],
      "execution_count": null,
      "outputs": [
        {
          "output_type": "stream",
          "text": [
            "The roots are: [1.9999999998971734, 1.999999999982154], found at epoch 14\n"
          ],
          "name": "stdout"
        }
      ]
    },
    {
      "cell_type": "markdown",
      "metadata": {
        "id": "9ks_CFS9RIys"
      },
      "source": [
        "\n",
        "Step 1: You need to declare a function that returns the equation to be tested. In the example above, it can be seen that function d is declared. \n",
        "<br><br>\n",
        "Step 2: Call the function that you desired to use, in this case regula_falsi is the function that will be used. Insert the required parameters then run the program and it will give you the results/output."
      ]
    },
    {
      "cell_type": "markdown",
      "metadata": {
        "id": "uhVVUFJoRL84"
      },
      "source": [
        ""
      ]
    },
    {
      "cell_type": "markdown",
      "metadata": {
        "id": "F2z-MLxiRU-t"
      },
      "source": [
        "#Secant Method\n",
        "\n",
        "This function returns the roots found in the given equation along with the count of iterations that the program took in order to find the roots of the equation using the secant method.\n",
        "<br><br>\n",
        "\n",
        "The function takes six parameters:\n",
        "\n",
        "1) equation - This parameter will contain the equation where the root will be found in. It should receive functions that return equations only.\n",
        "\n",
        "2) n_roots - This parameter will display all of the currently found roots in a list. It will accept variables that are declared specifically as a set.\n",
        "\n",
        "3) x0 - This parameter is the first guess that will be used to find the root. It can accept both integer and float values.\n",
        "\n",
        "4) x1 - This parameter will contain the second starting guess that will be used to find the roots of the equation. It can accept both integer and float values.\n",
        "\n",
        "5) epochs - Will keep count of the number of the iterations done by the program in order to find the roots. This parameter should only have integer values.\n",
        "\n",
        "6) Precision - This parameter will contain the decimal count that will show the roots found. Only integer values will be accepted by this parameter."
      ]
    },
    {
      "cell_type": "code",
      "metadata": {
        "colab": {
          "base_uri": "https://localhost:8080/"
        },
        "id": "qcpLiaLjRbWX",
        "outputId": "49d42682-2cdb-434d-a507-cafb0d9132ec"
      },
      "source": [
        "def f3(x): return x**3 - 6*x**2 + 11*x - 6\n",
        "\n",
        "n_roots = set([])\n",
        "\n",
        "#Secant_Method(equation,n_roots,x0,x1,epochs,Precision):\n",
        "rt.Secant_Method(f3,n_roots,4,5,100,4)"
      ],
      "execution_count": null,
      "outputs": [
        {
          "output_type": "stream",
          "text": [
            "\n",
            "SECANT METHOD\n",
            "Epoch Count: 0, x2 = 3.6667\n",
            "Epoch Count: 1, x2 = 3.4789\n",
            "Epoch Count: 2, x2 = 3.2058\n",
            "Epoch Count: 3, x2 = 3.0821\n",
            "Epoch Count: 4, x2 = 3.019\n",
            "Epoch Count: 5, x2 = 3.0021\n",
            "Epoch Count: 6, x2 = 3.0001\n",
            "Epoch Count: 7, x2 = 3.0\n",
            "Epoch Count: 8, x2 = 3.0\n",
            "\n",
            "The root is: 3.0, found at 8 epochs\n",
            "\n",
            "The roots found so far are:\n",
            " {3.0000000000157496}\n"
          ],
          "name": "stdout"
        }
      ]
    },
    {
      "cell_type": "markdown",
      "metadata": {
        "id": "R0QODvO0Rbwy"
      },
      "source": [
        "Step 1: You need to declare a function that returns the equation to be tested. In the example above, it can be seen that function f3 is declared. \n",
        "<br><br>\n",
        "Step 2: Decalre the variable n_roots and set the data type as an empty set.\n",
        "<br><br>\n",
        "Step 3: Call the function that you desired to use, in this case Secant_Method is the function that will be used. Insert the required parameters then run the program and it will give you the results/output."
      ]
    }
  ]
}